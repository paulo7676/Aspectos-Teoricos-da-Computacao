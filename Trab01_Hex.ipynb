{
 "cells": [
  {
   "cell_type": "code",
   "execution_count": 134,
   "metadata": {},
   "outputs": [],
   "source": [
    "#Cadeia a ser analizada\n",
    "cadeia = '0x12343534'"
   ]
  },
  {
   "cell_type": "code",
   "execution_count": 135,
   "metadata": {},
   "outputs": [],
   "source": [
    "from bs4 import BeautifulSoup\n",
    "with open('Trab01_Hex.jff', 'r') as f:\n",
    "    data = f.read()"
   ]
  },
  {
   "cell_type": "code",
   "execution_count": 136,
   "metadata": {},
   "outputs": [
    {
     "name": "stderr",
     "output_type": "stream",
     "text": [
      "c:\\Users\\paulo\\AppData\\Local\\Programs\\Python\\Python310\\lib\\site-packages\\bs4\\builder\\__init__.py:545: XMLParsedAsHTMLWarning: It looks like you're parsing an XML document using an HTML parser. If this really is an HTML document (maybe it's XHTML?), you can ignore or filter this warning. If it's XML, you should know that using an XML parser will be more reliable. To parse this document as XML, make sure you have the lxml package installed, and pass the keyword argument `features=\"xml\"` into the BeautifulSoup constructor.\n",
      "  warnings.warn(\n"
     ]
    }
   ],
   "source": [
    "soup = BeautifulSoup(data, 'html.parser') #lendo o arquivo\n",
    "#print(soup.prettify())"
   ]
  },
  {
   "cell_type": "code",
   "execution_count": 137,
   "metadata": {},
   "outputs": [
    {
     "name": "stdout",
     "output_type": "stream",
     "text": [
      "0\n",
      "3\n"
     ]
    }
   ],
   "source": [
    "#states\n",
    "states = soup.automaton.find_all('state')\n",
    "for i in states:\n",
    "    if i.initial:\n",
    "        inicial = i['id'] #definindo o state inicial\n",
    "    if i.final:\n",
    "        final = i['id'] #definindo o state final\n",
    "\n",
    "print(inicial)\n",
    "print(final)"
   ]
  },
  {
   "cell_type": "code",
   "execution_count": 138,
   "metadata": {},
   "outputs": [],
   "source": [
    "#transitions\n",
    "transitions = soup.automaton.find_all('transition')"
   ]
  },
  {
   "cell_type": "code",
   "execution_count": 139,
   "metadata": {},
   "outputs": [
    {
     "name": "stdout",
     "output_type": "stream",
     "text": [
      "cadeia 0x12343534 reconhecida\n"
     ]
    }
   ],
   "source": [
    "atual = inicial\n",
    "aux = ''\n",
    "for i in cadeia:\n",
    "    for j in transitions:\n",
    "        #0 / de / para / simbolo / 0\n",
    "        state_ = j.text.replace('\\n',' ').split(' ')\n",
    "\n",
    "        if i == state_[3] and atual == state_[1]: #ver em qual state estamos e se \n",
    "            atual = state_[2]\n",
    "            aux += state_[3]\n",
    "            break\n",
    "\n",
    "if aux == cadeia:\n",
    "    print(\"cadeia {} reconhecida\".format(cadeia))\n",
    "else:\n",
    "    print(\"cadeia {} não reconhecida\".format(cadeia))"
   ]
  }
 ],
 "metadata": {
  "kernelspec": {
   "display_name": "Python 3.10.5 64-bit",
   "language": "python",
   "name": "python3"
  },
  "language_info": {
   "codemirror_mode": {
    "name": "ipython",
    "version": 3
   },
   "file_extension": ".py",
   "mimetype": "text/x-python",
   "name": "python",
   "nbconvert_exporter": "python",
   "pygments_lexer": "ipython3",
   "version": "3.10.5"
  },
  "orig_nbformat": 4,
  "vscode": {
   "interpreter": {
    "hash": "f42f955e7f8da3c548e302e1e5347a7e875359e0d4da102c4592ccaca30f562a"
   }
  }
 },
 "nbformat": 4,
 "nbformat_minor": 2
}
