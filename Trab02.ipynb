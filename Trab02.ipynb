{
 "cells": [
  {
   "cell_type": "code",
   "execution_count": 92,
   "metadata": {},
   "outputs": [],
   "source": [
    "Palavras_Reservadas = [\"END\",\"LET\",\"GO\",\"TO\",\"OF\",\"READ\",\"PRINT\",\"IF\",\"THEN\",\"ELSE\"]\n",
    "Sinais_Pontuacao = [\";\",\":\",\"+\",\"-\",\"*\",\"/\",\"(\",\")\",\".\",\">\",\"=\",\"<\"]\n",
    "Sinais_Compostos = [\":=\",\"GO TO\"]\n",
    "Alfabeto = [\"A\",\"B\",\"C\",\"D\",\"E\",\"F\",\"G\",\"H\",\"I\",\"J\",\"K\",\"L\",\"M\",\"N\",\"O\",\"P\",\"Q\",\"R\",\"S\",\"T\",\"U\",\"V\",\"W\",\"X\",\"Y\",\"Z\"]\n",
    "Numeros = [\"0\",\"1\",\"2\",\"3\",\"4\",\"5\",\"6\",\"7\",\"8\",\"9\"]\n",
    "Espacos = [\"\\n\",\" \"]"
   ]
  },
  {
   "cell_type": "code",
   "execution_count": 93,
   "metadata": {},
   "outputs": [],
   "source": [
    "Entrada = \"IF X + 2 > 10 THEN PRINT X ELSE PRINT X+1\""
   ]
  },
  {
   "cell_type": "code",
   "execution_count": 94,
   "metadata": {},
   "outputs": [
    {
     "data": {
      "text/plain": [
       "False"
      ]
     },
     "execution_count": 94,
     "metadata": {},
     "output_type": "execute_result"
    }
   ],
   "source": [
    "\"I\" in Palavras_Reservadas"
   ]
  },
  {
   "cell_type": "code",
   "execution_count": 95,
   "metadata": {},
   "outputs": [
    {
     "name": "stdout",
     "output_type": "stream",
     "text": [
      "2 CLASSE : IDENTIFICADOR (TOKEN 0)\n",
      "1 CLASSE : IDENTIFICADOR (TOKEN 1)\n",
      "0 CLASSE : IDENTIFICADOR (TOKEN 2)\n",
      "1 CLASSE : IDENTIFICADOR (TOKEN 3)\n"
     ]
    }
   ],
   "source": [
    "Palavras = []\n",
    "Classe = []\n",
    "aux = \"\"\n",
    "Numero = 0\n",
    "Estado = \"E1\"\n",
    "\n",
    "for i in Entrada:\n",
    "\n",
    "    #E2 \n",
    "    if i in Alfabeto:\n",
    "        aux += i\n",
    "        if aux in Palavras_Reservadas:\n",
    "            print(\"{} CLASSE : PALAVRA RESERVADA (TOKEN {})\".format(aux,Numero))\n",
    "            Numero += 1\n",
    "            aux = \"\"\n",
    "    #E3\n",
    "    if i in Numeros:\n",
    "        aux += i\n",
    "        print(\"{} CLASSE : IDENTIFICADOR (TOKEN {})\".format(i,Numero))\n",
    "        Numero += 1\n",
    "        aux = \"\"\n",
    "    else:\n",
    "        aux = \"\"\n",
    "\n",
    "\n"
   ]
  },
  {
   "cell_type": "code",
   "execution_count": 102,
   "metadata": {},
   "outputs": [
    {
     "name": "stdout",
     "output_type": "stream",
     "text": [
      "IF CLASSE : PALAVRA RESERVADA (TOKEN 0)\n",
      "X CLASSE : IDENTIFICADOR (TOKEN 1)\n",
      "2 CLASSE : NUMERO (TOKEN 1)\n",
      "10 CLASSE : NUMERO (TOKEN 2)\n",
      "THEN CLASSE : PALAVRA RESERVADA (TOKEN 3)\n",
      "PRINT CLASSE : PALAVRA RESERVADA (TOKEN 4)\n",
      "X CLASSE : IDENTIFICADOR (TOKEN 5)\n",
      "ELSE CLASSE : PALAVRA RESERVADA (TOKEN 5)\n",
      "PRINT CLASSE : PALAVRA RESERVADA (TOKEN 6)\n",
      "X CLASSE : IDENTIFICADOR (TOKEN 7)\n"
     ]
    }
   ],
   "source": [
    "Palavras = []\n",
    "Classe = []\n",
    "aux = \"\"\n",
    "Numero = 0\n",
    "Estado = \"E1\"\n",
    "\n",
    "for i in Entrada:\n",
    "\n",
    "    if Estado == \"E1\":\n",
    "        if i == \"%\":\n",
    "            Estado = \"E6\"\n",
    "        #elif i == \":\":\n",
    "        #    Estado = \"E4\"\n",
    "        elif i in Numeros:\n",
    "            Estado = \"E3\"\n",
    "        elif i in Alfabeto:\n",
    "            Estado = \"E2\"\n",
    "    \n",
    "    #E3\n",
    "    if Estado == \"E3\":\n",
    "        if i in Numeros:\n",
    "            aux += i\n",
    "        else:\n",
    "            print(\"{} CLASSE : NUMERO (TOKEN {})\".format(aux,Numero))\n",
    "            #TODO EDITAR AQUI\n",
    "            Numero += 1\n",
    "            aux = \"\"\n",
    "            Estado = \"E1\"\n",
    "    #E2\n",
    "    if Estado == \"E2\":\n",
    "        if (aux + i) in Palavras_Reservadas:\n",
    "            print(\"{} CLASSE : PALAVRA RESERVADA (TOKEN {})\".format(aux+i,Numero))\n",
    "            Numero += 1\n",
    "            aux = \"\"\n",
    "            Estado = \"E1\"\n",
    "        elif i in Alfabeto or i in Numeros:\n",
    "            aux += i\n",
    "        else:\n",
    "            print(\"{} CLASSE : IDENTIFICADOR (TOKEN {})\".format(aux,Numero))\n",
    "            aux = \"\"\n",
    "            Estado = \"E1\"\n",
    "        \n",
    "    \n",
    "    #print(Estado)\n",
    "\n",
    "\n",
    "\n",
    "\n",
    "\n"
   ]
  }
 ],
 "metadata": {
  "kernelspec": {
   "display_name": "Python 3.10.5 64-bit",
   "language": "python",
   "name": "python3"
  },
  "language_info": {
   "codemirror_mode": {
    "name": "ipython",
    "version": 3
   },
   "file_extension": ".py",
   "mimetype": "text/x-python",
   "name": "python",
   "nbconvert_exporter": "python",
   "pygments_lexer": "ipython3",
   "version": "3.10.5"
  },
  "orig_nbformat": 4,
  "vscode": {
   "interpreter": {
    "hash": "f42f955e7f8da3c548e302e1e5347a7e875359e0d4da102c4592ccaca30f562a"
   }
  }
 },
 "nbformat": 4,
 "nbformat_minor": 2
}
