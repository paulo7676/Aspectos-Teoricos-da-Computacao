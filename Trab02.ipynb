{
 "cells": [
  {
   "cell_type": "code",
   "execution_count": 1,
   "metadata": {},
   "outputs": [],
   "source": [
    "Palavras_Reservadas = [\"END\",\"LET\",\"GO\",\"TO\",\"OF\",\"READ\",\"PRINT\",\"IF\",\"THEN\",\"ELSE\"]\n",
    "Sinais_Pontuacao = [\";\",\":\",\"+\",\"-\",\"*\",\"/\",\"(\",\")\",\".\",\">\",\"=\",\"<\"]\n",
    "Sinais_Compostos = [\":=\",\"GO TO\"]\n",
    "Alfabeto = [\"A\",\"B\",\"C\",\"D\",\"E\",\"F\",\"G\",\"H\",\"I\",\"J\",\"K\",\"L\",\"M\",\"N\",\"O\",\"P\",\"Q\",\"R\",\"S\",\"T\",\"U\",\"V\",\"W\",\"X\",\"Y\",\"Z\"]\n",
    "Numeros = [\"0\",\"1\",\"2\",\"3\",\"4\",\"5\",\"6\",\"7\",\"8\",\"9\"]\n",
    "Espacos = [\"\\n\",\" \"]"
   ]
  },
  {
   "cell_type": "code",
   "execution_count": 2,
   "metadata": {},
   "outputs": [],
   "source": [
    "Entrada = \"IF X + 2 > 10 THEN PRINT X ELSE PRINT X+1\""
   ]
  },
  {
   "cell_type": "code",
   "execution_count": 55,
   "metadata": {},
   "outputs": [
    {
     "name": "stdout",
     "output_type": "stream",
     "text": [
      "VALOR : IF CLASSE : IDENTIFICADOR (TOKEN 0)\n",
      "VALOR : X CLASSE : IDENTIFICADOR (TOKEN 1)\n",
      "VALOR : + CLASSE : OUTRO CARACTERE (TOKEN 2)\n",
      "VALOR : 2 CLASSE : NUMERO (TOKEN 3)\n",
      "VALOR : > CLASSE : OUTRO CARACTERE (TOKEN 4)\n",
      "VALOR : 10 CLASSE : NUMERO (TOKEN 5)\n",
      "VALOR : THEN CLASSE : IDENTIFICADOR (TOKEN 6)\n",
      "VALOR : PRINT CLASSE : IDENTIFICADOR (TOKEN 7)\n",
      "VALOR : ELSE CLASSE : IDENTIFICADOR (TOKEN 8)\n",
      "VALOR : 1 CLASSE : NUMERO (TOKEN 9)\n"
     ]
    }
   ],
   "source": [
    "Palavras = []\n",
    "Classes = []\n",
    "Classe = \"\"\n",
    "Palavra = \"\"\n",
    "Estado = \"E1\"\n",
    "Tamanho_Entrada = len(Entrada)\n",
    "\n",
    "for i in range(Tamanho_Entrada):\n",
    "    if Estado == \"E1\":\n",
    "\n",
    "        if Entrada[i] == \":\":\n",
    "            Estado = \"E4\"\n",
    "        elif Entrada[i] in Sinais_Pontuacao:\n",
    "            Estado = \"E6\"\n",
    "        elif Entrada[i] in Numeros:\n",
    "            Estado = \"E3\"\n",
    "        elif Entrada[i] in Alfabeto:\n",
    "            Estado = \"E2\"\n",
    "\n",
    "    #E4\n",
    "    if Estado == \"E4\":\n",
    "        Palavra = Entrada[i]\n",
    "        Classe = \":\"\n",
    "        Estado = \"E5\"\n",
    "\n",
    "    #E5\n",
    "    if Estado == \"E5\":\n",
    "\n",
    "        if Entrada[i] == \"=\":\n",
    "            Palavra = + Entrada[i]\n",
    "            Classe = \":=\"\n",
    "            Estado = \"E1\"\n",
    "\n",
    "\n",
    "    #E6\n",
    "    if Estado == \"E6\":\n",
    "        Palavra = Entrada[i]\n",
    "        Classe = \"OUTRO CARACTERE\"\n",
    "        Estado = \"E1\"\n",
    "\n",
    "    #E3\n",
    "    if Estado == \"E3\":\n",
    "\n",
    "        if Entrada[i] in Numeros:\n",
    "            Palavra += Entrada[i]\n",
    "            Classe = \"NUMERO\"\n",
    "        else:\n",
    "            Estado = \"E1\"\n",
    "\n",
    "    #E2\n",
    "    if Estado == \"E2\":\n",
    "\n",
    "        if (aux + Entrada[i]) in Palavras_Reservadas:\n",
    "            Palavra = aux+Entrada[i]\n",
    "            Classe = \"PALAVRA RESERVADA\"\n",
    "            Estado = \"E1\"\n",
    "\n",
    "        elif Entrada[i] in Alfabeto or Entrada[i] in Numeros:\n",
    "            Palavra += Entrada[i]\n",
    "            Classe = \"IDENTIFICADOR\"\n",
    "        else:\n",
    "\n",
    "            Estado = \"E1\"\n",
    "    \n",
    "    #E7\n",
    "    if Estado == \"E1\" or i == (Tamanho_Entrada-1):\n",
    "        \n",
    "        if Palavra not in Palavras and len(Palavra) > 0:\n",
    "            Palavras.append(Palavra)\n",
    "            Classes.append(Classe)\n",
    "        \n",
    "\n",
    "        Palavra = \"\"\n",
    "        Classe = \"erro\"\n",
    "\n",
    "\n",
    "aux = 0\n",
    "for i in range(len(Palavras)):\n",
    "\n",
    "    print(\"VALOR : {} CLASSE : {} (TOKEN {})\".format(Palavras[i],Classes[i],aux))\n",
    "    aux += 1\n",
    "\n",
    "\n"
   ]
  }
 ],
 "metadata": {
  "kernelspec": {
   "display_name": "Python 3.10.5 64-bit",
   "language": "python",
   "name": "python3"
  },
  "language_info": {
   "codemirror_mode": {
    "name": "ipython",
    "version": 3
   },
   "file_extension": ".py",
   "mimetype": "text/x-python",
   "name": "python",
   "nbconvert_exporter": "python",
   "pygments_lexer": "ipython3",
   "version": "3.10.5"
  },
  "orig_nbformat": 4,
  "vscode": {
   "interpreter": {
    "hash": "f42f955e7f8da3c548e302e1e5347a7e875359e0d4da102c4592ccaca30f562a"
   }
  }
 },
 "nbformat": 4,
 "nbformat_minor": 2
}
